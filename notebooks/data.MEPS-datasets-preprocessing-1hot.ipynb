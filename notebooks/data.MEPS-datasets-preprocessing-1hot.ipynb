{
 "cells": [
  {
   "cell_type": "markdown",
   "id": "497fcfba",
   "metadata": {},
   "source": [
    "# Generate and parse MEPS data"
   ]
  },
  {
   "cell_type": "code",
   "execution_count": 1,
   "id": "cbc69403",
   "metadata": {},
   "outputs": [
    {
     "name": "stderr",
     "output_type": "stream",
     "text": [
      "WARNING:root:No module named 'tempeh': LawSchoolGPADataset will be unavailable. To install, run:\n",
      "pip install 'aif360[LawSchoolGPA]'\n"
     ]
    }
   ],
   "source": [
    "import sys\n",
    "import logging\n",
    "from pathlib import Path\n",
    "\n",
    "import pandas as pd\n",
    "import numpy as np\n",
    "\n",
    "from aif360.datasets import (\n",
    "    MEPSDataset19,\n",
    "    MEPSDataset20,\n",
    "    MEPSDataset21,\n",
    "    StandardDataset,\n",
    ")"
   ]
  },
  {
   "cell_type": "markdown",
   "id": "3ec58d77",
   "metadata": {},
   "source": [
    "Important constants!\n",
    "\n",
    "**NOTE**:\n",
    "- train and test datasets are pre-determined temporally (train dataset is composed of survey panels 19 and 20, while test dataset is composed of panel 21).\n",
    "- if `VALIDATION_SIZE is not None`, that portion of the train dataset will be used for validation."
   ]
  },
  {
   "cell_type": "code",
   "execution_count": 2,
   "id": "4f1dbf90",
   "metadata": {},
   "outputs": [],
   "source": [
    "# Which fraction of the train dataset will be used for validation\n",
    "VALIDATION_SIZE = 0.3\n",
    "# VALIDATION_SIZE = None\n",
    "\n",
    "# Whether to use one-hot encoding (or label encoding)\n",
    "ONE_HOT = False\n",
    "# ONE_HOT = True\n",
    "\n",
    "# Whether to use binary sensitive groups or not\n",
    "BINARY_GROUPS = False\n",
    "# BINARY_GROUPS = True\n",
    "\n",
    "# Random seed\n",
    "SEED = 42"
   ]
  },
  {
   "cell_type": "markdown",
   "id": "7b1c812b",
   "metadata": {},
   "source": [
    "Column names."
   ]
  },
  {
   "cell_type": "code",
   "execution_count": 3,
   "id": "a818df39",
   "metadata": {},
   "outputs": [],
   "source": [
    "label_col = 'UTILIZATION'\n",
    "protected_attribute_col = 'RACE'\n",
    "instance_weights_col = 'PERWT15F' # or 'PERWT16F' for panel 21 (year 2016)\n",
    "\n",
    "categorical_cols = [\n",
    "    'REGION','SEX','MARRY',\n",
    "    'FTSTU','ACTDTY','HONRDC','RTHLTH','MNHLTH','HIBPDX','CHDDX','ANGIDX',\n",
    "    'MIDX','OHRTDX','STRKDX','EMPHDX','CHBRON','CHOLDX','CANCERDX','DIABDX',\n",
    "    'JTPAIN','ARTHDX','ARTHTYPE','ASTHDX','ADHDADDX','PREGNT','WLKLIM',\n",
    "    'ACTLIM','SOCLIM','COGLIM','DFHEAR42','DFSEE42', 'ADSMOK42', 'PHQ242',\n",
    "    'EMPST','POVCAT','INSCOV']\n",
    "\n",
    "all_cols = [\n",
    "    'REGION','AGE','SEX','RACE','MARRY',\n",
    "    'FTSTU','ACTDTY','HONRDC','RTHLTH','MNHLTH','HIBPDX','CHDDX','ANGIDX',\n",
    "    'MIDX','OHRTDX','STRKDX','EMPHDX','CHBRON','CHOLDX','CANCERDX','DIABDX',\n",
    "    'JTPAIN','ARTHDX','ARTHTYPE','ASTHDX','ADHDADDX','PREGNT','WLKLIM',\n",
    "    'ACTLIM','SOCLIM','COGLIM','DFHEAR42','DFSEE42', 'ADSMOK42',\n",
    "    'PCS42', 'MCS42','K6SUM42','PHQ242','EMPST','POVCAT','INSCOV','UTILIZATION', 'PERWT15F'\n",
    "]\n",
    "\n",
    "numeric_cols = list(\n",
    "    set(all_cols)\n",
    "    - set(categorical_cols)\n",
    "    - {instance_weights_col, protected_attribute_col, label_col}\n",
    ")"
   ]
  },
  {
   "cell_type": "markdown",
   "id": "c1c5b8d1",
   "metadata": {},
   "source": [
    "---"
   ]
  },
  {
   "cell_type": "code",
   "execution_count": 4,
   "id": "cdc35348",
   "metadata": {},
   "outputs": [],
   "source": [
    "# Add utils to this notebook's sys path\n",
    "import sys; sys.path.insert(0, str(Path(\"../scripts/\").resolve()))\n",
    "from utils.meps_preprocessing import custom_meps_preproc, custom_mappings\n",
    "from functools import partial"
   ]
  },
  {
   "cell_type": "code",
   "execution_count": 5,
   "id": "0cb4e68e",
   "metadata": {},
   "outputs": [],
   "source": [
    "if BINARY_GROUPS:\n",
    "    # This was the original binary-group preprocessing\n",
    "    data_panel19 = MEPSDataset19()\n",
    "    data_panel20 = MEPSDataset20()\n",
    "    data_panel21 = MEPSDataset21()\n",
    "\n",
    "else:\n",
    "    # This will use our pre-processing to keep three sensitive groups\n",
    "    data_panel19 = MEPSDataset19(\n",
    "        custom_preprocessing=partial(custom_meps_preproc, panel_num=19),\n",
    "        protected_attribute_names=[protected_attribute_col],\n",
    "        privileged_classes=[[0.0]],\n",
    "    )\n",
    "\n",
    "    data_panel20 = MEPSDataset20(\n",
    "        custom_preprocessing=partial(custom_meps_preproc, panel_num=20),\n",
    "        protected_attribute_names=[protected_attribute_col],\n",
    "        privileged_classes=[[0.0]],\n",
    "    )\n",
    "\n",
    "    data_panel21 = MEPSDataset21(\n",
    "        custom_preprocessing=partial(custom_meps_preproc, panel_num=21),\n",
    "        protected_attribute_names=[protected_attribute_col],\n",
    "        privileged_classes=[[0.0]],\n",
    "    )"
   ]
  },
  {
   "cell_type": "markdown",
   "id": "086c0ffe",
   "metadata": {},
   "source": [
    "Print distribution of samples per sensitive group:"
   ]
  },
  {
   "cell_type": "code",
   "execution_count": 6,
   "id": "eca2475f",
   "metadata": {},
   "outputs": [
    {
     "data": {
      "text/plain": [
       "0.0    5656\n",
       "2.0    5182\n",
       "1.0    4992\n",
       "dtype: int64"
      ]
     },
     "execution_count": 6,
     "metadata": {},
     "output_type": "execute_result"
    }
   ],
   "source": [
    "pd.Series(data_panel19.protected_attributes.ravel()).value_counts()"
   ]
  },
  {
   "cell_type": "code",
   "execution_count": 7,
   "id": "1a66e77b",
   "metadata": {},
   "outputs": [],
   "source": [
    "from pandas.api.types import is_numeric_dtype\n",
    "from sklearn.preprocessing import StandardScaler\n",
    "\n",
    "def parse_meps_data(meps_data: StandardDataset, onehot=True) -> tuple[pd.DataFrame, np.array, np.array]:\n",
    "    \"\"\"Parses MEPS data into a pandas DataFrame.\"\"\"\n",
    "\n",
    "    df, _metadata = meps_data.convert_to_dataframe(de_dummy_code=not onehot)\n",
    "    df_enc = df.copy()\n",
    "\n",
    "    # If `onehot`, use normal scaling on numeric columns (remaining columns will be one-hot encoded)\n",
    "    if onehot:\n",
    "        scaler = StandardScaler()\n",
    "        df_enc_numeric = scaler.fit_transform(df[numeric_cols])\n",
    "\n",
    "        for idx, num_col in enumerate(numeric_cols):\n",
    "            df_enc[num_col] = df_enc_numeric[:, idx]\n",
    "        \n",
    "        df = df_enc\n",
    "\n",
    "    # Convert to label encoding if `not onehot`\n",
    "    else:\n",
    "        for col_name, col_dtype in df.dtypes.items():\n",
    "            if not is_numeric_dtype(col_dtype):\n",
    "                df_enc[col_name], _ = pd.factorize(df[col_name], sort=True)\n",
    "            \n",
    "        df = df_enc.astype({\n",
    "                col_name: \"category\" if not is_numeric_dtype(col_dtype) else col_dtype\n",
    "                for col_name, col_dtype in df.dtypes.items()\n",
    "            })\n",
    "    \n",
    "    # Move labels to 1st position (index: 0)\n",
    "    label_name, = meps_data.label_names    \n",
    "    label_data = df.pop(label_name)\n",
    "    df.insert(0, label_name, label_data)\n",
    "    \n",
    "    # and sensitive to 2nd position (index: 1)\n",
    "    sensitive_data = df.pop(protected_attribute_col)\n",
    "    df.insert(1, protected_attribute_col, sensitive_data)\n",
    "    \n",
    "    return df"
   ]
  },
  {
   "cell_type": "code",
   "execution_count": 8,
   "id": "25366fde",
   "metadata": {},
   "outputs": [],
   "source": [
    "df19 = parse_meps_data(data_panel19, onehot=ONE_HOT)\n",
    "df20 = parse_meps_data(data_panel20, onehot=ONE_HOT)\n",
    "df21 = parse_meps_data(data_panel21, onehot=ONE_HOT)"
   ]
  },
  {
   "cell_type": "code",
   "execution_count": 9,
   "id": "b0616f9a",
   "metadata": {},
   "outputs": [
    {
     "data": {
      "text/html": [
       "<div>\n",
       "<style scoped>\n",
       "    .dataframe tbody tr th:only-of-type {\n",
       "        vertical-align: middle;\n",
       "    }\n",
       "\n",
       "    .dataframe tbody tr th {\n",
       "        vertical-align: top;\n",
       "    }\n",
       "\n",
       "    .dataframe thead th {\n",
       "        text-align: right;\n",
       "    }\n",
       "</style>\n",
       "<table border=\"1\" class=\"dataframe\">\n",
       "  <thead>\n",
       "    <tr style=\"text-align: right;\">\n",
       "      <th></th>\n",
       "      <th>UTILIZATION</th>\n",
       "      <th>RACE</th>\n",
       "      <th>AGE</th>\n",
       "      <th>PCS42</th>\n",
       "      <th>MCS42</th>\n",
       "      <th>K6SUM42</th>\n",
       "      <th>REGION</th>\n",
       "      <th>SEX</th>\n",
       "      <th>MARRY</th>\n",
       "      <th>FTSTU</th>\n",
       "      <th>...</th>\n",
       "      <th>ACTLIM</th>\n",
       "      <th>SOCLIM</th>\n",
       "      <th>COGLIM</th>\n",
       "      <th>DFHEAR42</th>\n",
       "      <th>DFSEE42</th>\n",
       "      <th>ADSMOK42</th>\n",
       "      <th>PHQ242</th>\n",
       "      <th>EMPST</th>\n",
       "      <th>POVCAT</th>\n",
       "      <th>INSCOV</th>\n",
       "    </tr>\n",
       "  </thead>\n",
       "  <tbody>\n",
       "    <tr>\n",
       "      <th>9788</th>\n",
       "      <td>1</td>\n",
       "      <td>1</td>\n",
       "      <td>26.0</td>\n",
       "      <td>46.62</td>\n",
       "      <td>31.19</td>\n",
       "      <td>14.0</td>\n",
       "      <td>3</td>\n",
       "      <td>1</td>\n",
       "      <td>4</td>\n",
       "      <td>0</td>\n",
       "      <td>...</td>\n",
       "      <td>2</td>\n",
       "      <td>2</td>\n",
       "      <td>2</td>\n",
       "      <td>2</td>\n",
       "      <td>2</td>\n",
       "      <td>1</td>\n",
       "      <td>5</td>\n",
       "      <td>1</td>\n",
       "      <td>2</td>\n",
       "      <td>0</td>\n",
       "    </tr>\n",
       "    <tr>\n",
       "      <th>10365</th>\n",
       "      <td>0</td>\n",
       "      <td>0</td>\n",
       "      <td>55.0</td>\n",
       "      <td>36.74</td>\n",
       "      <td>66.94</td>\n",
       "      <td>0.0</td>\n",
       "      <td>2</td>\n",
       "      <td>0</td>\n",
       "      <td>3</td>\n",
       "      <td>0</td>\n",
       "      <td>...</td>\n",
       "      <td>2</td>\n",
       "      <td>2</td>\n",
       "      <td>2</td>\n",
       "      <td>2</td>\n",
       "      <td>2</td>\n",
       "      <td>2</td>\n",
       "      <td>1</td>\n",
       "      <td>1</td>\n",
       "      <td>3</td>\n",
       "      <td>0</td>\n",
       "    </tr>\n",
       "    <tr>\n",
       "      <th>15697</th>\n",
       "      <td>0</td>\n",
       "      <td>0</td>\n",
       "      <td>18.0</td>\n",
       "      <td>-1.00</td>\n",
       "      <td>-1.00</td>\n",
       "      <td>-1.0</td>\n",
       "      <td>2</td>\n",
       "      <td>1</td>\n",
       "      <td>5</td>\n",
       "      <td>1</td>\n",
       "      <td>...</td>\n",
       "      <td>2</td>\n",
       "      <td>2</td>\n",
       "      <td>2</td>\n",
       "      <td>2</td>\n",
       "      <td>2</td>\n",
       "      <td>0</td>\n",
       "      <td>0</td>\n",
       "      <td>4</td>\n",
       "      <td>0</td>\n",
       "      <td>1</td>\n",
       "    </tr>\n",
       "    <tr>\n",
       "      <th>11815</th>\n",
       "      <td>0</td>\n",
       "      <td>1</td>\n",
       "      <td>60.0</td>\n",
       "      <td>43.99</td>\n",
       "      <td>57.09</td>\n",
       "      <td>1.0</td>\n",
       "      <td>2</td>\n",
       "      <td>1</td>\n",
       "      <td>0</td>\n",
       "      <td>0</td>\n",
       "      <td>...</td>\n",
       "      <td>2</td>\n",
       "      <td>2</td>\n",
       "      <td>2</td>\n",
       "      <td>2</td>\n",
       "      <td>2</td>\n",
       "      <td>2</td>\n",
       "      <td>1</td>\n",
       "      <td>4</td>\n",
       "      <td>3</td>\n",
       "      <td>0</td>\n",
       "    </tr>\n",
       "    <tr>\n",
       "      <th>15240</th>\n",
       "      <td>0</td>\n",
       "      <td>2</td>\n",
       "      <td>27.0</td>\n",
       "      <td>59.18</td>\n",
       "      <td>51.39</td>\n",
       "      <td>5.0</td>\n",
       "      <td>2</td>\n",
       "      <td>1</td>\n",
       "      <td>5</td>\n",
       "      <td>0</td>\n",
       "      <td>...</td>\n",
       "      <td>2</td>\n",
       "      <td>2</td>\n",
       "      <td>2</td>\n",
       "      <td>2</td>\n",
       "      <td>2</td>\n",
       "      <td>2</td>\n",
       "      <td>3</td>\n",
       "      <td>4</td>\n",
       "      <td>4</td>\n",
       "      <td>0</td>\n",
       "    </tr>\n",
       "  </tbody>\n",
       "</table>\n",
       "<p>5 rows × 42 columns</p>\n",
       "</div>"
      ],
      "text/plain": [
       "      UTILIZATION RACE   AGE  PCS42  MCS42  K6SUM42 REGION SEX MARRY FTSTU  \\\n",
       "9788            1    1  26.0  46.62  31.19     14.0      3   1     4     0   \n",
       "10365           0    0  55.0  36.74  66.94      0.0      2   0     3     0   \n",
       "15697           0    0  18.0  -1.00  -1.00     -1.0      2   1     5     1   \n",
       "11815           0    1  60.0  43.99  57.09      1.0      2   1     0     0   \n",
       "15240           0    2  27.0  59.18  51.39      5.0      2   1     5     0   \n",
       "\n",
       "       ... ACTLIM SOCLIM COGLIM DFHEAR42 DFSEE42 ADSMOK42 PHQ242 EMPST POVCAT  \\\n",
       "9788   ...      2      2      2        2       2        1      5     1      2   \n",
       "10365  ...      2      2      2        2       2        2      1     1      3   \n",
       "15697  ...      2      2      2        2       2        0      0     4      0   \n",
       "11815  ...      2      2      2        2       2        2      1     4      3   \n",
       "15240  ...      2      2      2        2       2        2      3     4      4   \n",
       "\n",
       "      INSCOV  \n",
       "9788       0  \n",
       "10365      0  \n",
       "15697      1  \n",
       "11815      0  \n",
       "15240      0  \n",
       "\n",
       "[5 rows x 42 columns]"
      ]
     },
     "execution_count": 9,
     "metadata": {},
     "output_type": "execute_result"
    }
   ],
   "source": [
    "df19.sample(5)"
   ]
  },
  {
   "cell_type": "code",
   "execution_count": 10,
   "id": "0fabda8e",
   "metadata": {},
   "outputs": [
    {
     "data": {
      "text/plain": [
       "1    5656\n",
       "0    5182\n",
       "2    4992\n",
       "Name: RACE, dtype: int64"
      ]
     },
     "execution_count": 10,
     "metadata": {},
     "output_type": "execute_result"
    }
   ],
   "source": [
    "df19[protected_attribute_col].value_counts()"
   ]
  },
  {
   "cell_type": "markdown",
   "id": "59d0d41d",
   "metadata": {},
   "source": [
    "**Test data** is drawn from panel 21 (from 2016)."
   ]
  },
  {
   "cell_type": "code",
   "execution_count": 11,
   "id": "c98b5843",
   "metadata": {},
   "outputs": [],
   "source": [
    "test_df = df21"
   ]
  },
  {
   "cell_type": "markdown",
   "id": "81aa8e8c",
   "metadata": {},
   "source": [
    "**Train and validation data** are drawn from panels 19 and 20 (both from 2015)."
   ]
  },
  {
   "cell_type": "code",
   "execution_count": 12,
   "id": "aba14386",
   "metadata": {},
   "outputs": [],
   "source": [
    "df19_20 = pd.concat((df19, df20), ignore_index=True)\n",
    "\n",
    "if VALIDATION_SIZE is None:\n",
    "    train_df = df19_20\n",
    "    validation_df = None\n",
    "    \n",
    "else:\n",
    "    n_samples = len(df19_20)\n",
    "    n_val_samples = int(n_samples * VALIDATION_SIZE)\n",
    "\n",
    "    perm = np.random.default_rng(SEED).permutation(n_samples)\n",
    "\n",
    "    validation_idx = perm[: n_val_samples]\n",
    "    train_idx = perm[n_val_samples: ]\n",
    "    \n",
    "    train_df = df19_20.iloc[train_idx]\n",
    "    validation_df = df19_20.iloc[validation_idx]"
   ]
  },
  {
   "cell_type": "code",
   "execution_count": 13,
   "id": "5139ad9c",
   "metadata": {},
   "outputs": [
    {
     "name": "stdout",
     "output_type": "stream",
     "text": [
      "Train shape: (23380, 42)\n",
      "Test shape : (15675, 42)\n",
      "Val. shape : (10020, 42)\n"
     ]
    }
   ],
   "source": [
    "print(f\"Train shape: {train_df.shape}\")\n",
    "print(f\"Test shape : {test_df.shape}\")\n",
    "\n",
    "if VALIDATION_SIZE is not None:\n",
    "    print(f\"Val. shape : {validation_df.shape}\")"
   ]
  },
  {
   "cell_type": "markdown",
   "id": "33773e0b",
   "metadata": {},
   "source": [
    "---\n",
    "Let's try to train a classifier to see if data looks OK."
   ]
  },
  {
   "cell_type": "code",
   "execution_count": 14,
   "id": "19849d87",
   "metadata": {},
   "outputs": [],
   "source": [
    "feature_cols = [\n",
    "    col for col in train_df.columns.to_list()\n",
    "    if col not in {\n",
    "        label_col,\n",
    "        instance_weights_col,\n",
    "        # protected_attribute_col,  # we're currently using the protected attr col for training\n",
    "    }\n",
    "]"
   ]
  },
  {
   "cell_type": "code",
   "execution_count": 15,
   "id": "c7d53e99",
   "metadata": {},
   "outputs": [
    {
     "name": "stdout",
     "output_type": "stream",
     "text": [
      "CPU times: user 1.08 s, sys: 1.62 s, total: 2.7 s\n",
      "Wall time: 1.31 s\n"
     ]
    },
    {
     "data": {
      "text/html": [
       "<style>#sk-container-id-1 {color: black;background-color: white;}#sk-container-id-1 pre{padding: 0;}#sk-container-id-1 div.sk-toggleable {background-color: white;}#sk-container-id-1 label.sk-toggleable__label {cursor: pointer;display: block;width: 100%;margin-bottom: 0;padding: 0.3em;box-sizing: border-box;text-align: center;}#sk-container-id-1 label.sk-toggleable__label-arrow:before {content: \"▸\";float: left;margin-right: 0.25em;color: #696969;}#sk-container-id-1 label.sk-toggleable__label-arrow:hover:before {color: black;}#sk-container-id-1 div.sk-estimator:hover label.sk-toggleable__label-arrow:before {color: black;}#sk-container-id-1 div.sk-toggleable__content {max-height: 0;max-width: 0;overflow: hidden;text-align: left;background-color: #f0f8ff;}#sk-container-id-1 div.sk-toggleable__content pre {margin: 0.2em;color: black;border-radius: 0.25em;background-color: #f0f8ff;}#sk-container-id-1 input.sk-toggleable__control:checked~div.sk-toggleable__content {max-height: 200px;max-width: 100%;overflow: auto;}#sk-container-id-1 input.sk-toggleable__control:checked~label.sk-toggleable__label-arrow:before {content: \"▾\";}#sk-container-id-1 div.sk-estimator input.sk-toggleable__control:checked~label.sk-toggleable__label {background-color: #d4ebff;}#sk-container-id-1 div.sk-label input.sk-toggleable__control:checked~label.sk-toggleable__label {background-color: #d4ebff;}#sk-container-id-1 input.sk-hidden--visually {border: 0;clip: rect(1px 1px 1px 1px);clip: rect(1px, 1px, 1px, 1px);height: 1px;margin: -1px;overflow: hidden;padding: 0;position: absolute;width: 1px;}#sk-container-id-1 div.sk-estimator {font-family: monospace;background-color: #f0f8ff;border: 1px dotted black;border-radius: 0.25em;box-sizing: border-box;margin-bottom: 0.5em;}#sk-container-id-1 div.sk-estimator:hover {background-color: #d4ebff;}#sk-container-id-1 div.sk-parallel-item::after {content: \"\";width: 100%;border-bottom: 1px solid gray;flex-grow: 1;}#sk-container-id-1 div.sk-label:hover label.sk-toggleable__label {background-color: #d4ebff;}#sk-container-id-1 div.sk-serial::before {content: \"\";position: absolute;border-left: 1px solid gray;box-sizing: border-box;top: 0;bottom: 0;left: 50%;z-index: 0;}#sk-container-id-1 div.sk-serial {display: flex;flex-direction: column;align-items: center;background-color: white;padding-right: 0.2em;padding-left: 0.2em;position: relative;}#sk-container-id-1 div.sk-item {position: relative;z-index: 1;}#sk-container-id-1 div.sk-parallel {display: flex;align-items: stretch;justify-content: center;background-color: white;position: relative;}#sk-container-id-1 div.sk-item::before, #sk-container-id-1 div.sk-parallel-item::before {content: \"\";position: absolute;border-left: 1px solid gray;box-sizing: border-box;top: 0;bottom: 0;left: 50%;z-index: -1;}#sk-container-id-1 div.sk-parallel-item {display: flex;flex-direction: column;z-index: 1;position: relative;background-color: white;}#sk-container-id-1 div.sk-parallel-item:first-child::after {align-self: flex-end;width: 50%;}#sk-container-id-1 div.sk-parallel-item:last-child::after {align-self: flex-start;width: 50%;}#sk-container-id-1 div.sk-parallel-item:only-child::after {width: 0;}#sk-container-id-1 div.sk-dashed-wrapped {border: 1px dashed gray;margin: 0 0.4em 0.5em 0.4em;box-sizing: border-box;padding-bottom: 0.4em;background-color: white;}#sk-container-id-1 div.sk-label label {font-family: monospace;font-weight: bold;display: inline-block;line-height: 1.2em;}#sk-container-id-1 div.sk-label-container {text-align: center;}#sk-container-id-1 div.sk-container {/* jupyter's `normalize.less` sets `[hidden] { display: none; }` but bootstrap.min.css set `[hidden] { display: none !important; }` so we also need the `!important` here to be able to override the default hidden behavior on the sphinx rendered scikit-learn.org. See: https://github.com/scikit-learn/scikit-learn/issues/21755 */display: inline-block !important;position: relative;}#sk-container-id-1 div.sk-text-repr-fallback {display: none;}</style><div id=\"sk-container-id-1\" class=\"sk-top-container\"><div class=\"sk-text-repr-fallback\"><pre>LGBMClassifier(n_estimators=200)</pre><b>In a Jupyter environment, please rerun this cell to show the HTML representation or trust the notebook. <br />On GitHub, the HTML representation is unable to render, please try loading this page with nbviewer.org.</b></div><div class=\"sk-container\" hidden><div class=\"sk-item\"><div class=\"sk-estimator sk-toggleable\"><input class=\"sk-toggleable__control sk-hidden--visually\" id=\"sk-estimator-id-1\" type=\"checkbox\" checked><label for=\"sk-estimator-id-1\" class=\"sk-toggleable__label sk-toggleable__label-arrow\">LGBMClassifier</label><div class=\"sk-toggleable__content\"><pre>LGBMClassifier(n_estimators=200)</pre></div></div></div></div></div>"
      ],
      "text/plain": [
       "LGBMClassifier(n_estimators=200)"
      ]
     },
     "execution_count": 15,
     "metadata": {},
     "output_type": "execute_result"
    }
   ],
   "source": [
    "%%time\n",
    "from lightgbm import LGBMClassifier\n",
    "\n",
    "gbm = LGBMClassifier(n_estimators=200)\n",
    "gbm.fit(train_df[feature_cols], train_df[label_col])"
   ]
  },
  {
   "cell_type": "code",
   "execution_count": 16,
   "id": "9e361a68",
   "metadata": {
    "scrolled": false
   },
   "outputs": [
    {
     "data": {
      "image/png": "[encoded data removed]",
      "text/plain": [
       "<Figure size 640x480 with 1 Axes>"
      ]
     },
     "metadata": {},
     "output_type": "display_data"
    }
   ],
   "source": [
    "from sklearn.metrics import RocCurveDisplay\n",
    "\n",
    "disp = RocCurveDisplay.from_predictions(\n",
    "    y_true=test_df[label_col],\n",
    "    y_pred=gbm.predict_proba(test_df[feature_cols])[:, -1],\n",
    "    name=\"global ROC\")\n",
    "\n",
    "\n",
    "for g in np.unique(test_df[protected_attribute_col]):\n",
    "    \n",
    "    group_filter = test_df[protected_attribute_col] == g\n",
    "\n",
    "    RocCurveDisplay.from_predictions(\n",
    "        y_true=test_df[label_col][group_filter],\n",
    "        y_pred=gbm.predict_proba(test_df[feature_cols])[:, -1][group_filter],\n",
    "        name=f\"group={g}\",\n",
    "        ax=disp.ax_,\n",
    "    )"
   ]
  },
  {
   "cell_type": "markdown",
   "id": "482d73e9",
   "metadata": {},
   "source": [
    "---\n",
    "And finally save to local disk!"
   ]
  },
  {
   "cell_type": "code",
   "execution_count": 17,
   "id": "e9a5c238",
   "metadata": {},
   "outputs": [
    {
     "name": "stdout",
     "output_type": "stream",
     "text": [
      "Saving data to folder '/Users/acruz/data/MEPS/train_23380_test_15675_val_10020_3-groups'.\n"
     ]
    }
   ],
   "source": [
    "# Save data to local disk\n",
    "root_dir = Path(\"~\").expanduser()\n",
    "data_dir = root_dir / \"data\" / \"MEPS\"\n",
    "data_dir.mkdir(parents=True, exist_ok=True)\n",
    "\n",
    "subfolder_name = (\n",
    "    f\"train_{len(train_df)}_\"\n",
    "    f\"test_{len(test_df)}_\"\n",
    "    f\"val_{len(validation_df) if VALIDATION_SIZE is not None else 0}\"\n",
    "    f\"_{df19[protected_attribute_col].nunique()}-groups\"\n",
    ")\n",
    "subfolder_path = data_dir / subfolder_name\n",
    "subfolder_path.mkdir(parents=True, exist_ok=True)\n",
    "\n",
    "print(f\"Saving data to folder '{str(subfolder_path)}'.\")\n",
    "train_df.to_csv(subfolder_path / f\"MEPS.train{'.1-hot' if ONE_HOT else ''}.csv\", header=True, index_label=\"index\")\n",
    "test_df.to_csv(subfolder_path / f\"MEPS.test{'.1-hot' if ONE_HOT else ''}.csv\", header=True, index_label=\"index\")\n",
    "\n",
    "if VALIDATION_SIZE is not None:\n",
    "    validation_df.to_csv(subfolder_path / f\"MEPS.validation{'.1-hot' if ONE_HOT else ''}.csv\", header=True, index_label=\"index\")"
   ]
  },
  {
   "cell_type": "markdown",
   "id": "1b3f3c90",
   "metadata": {},
   "source": [
    "---"
   ]
  }
 ],
 "metadata": {
  "kernelspec": {
   "display_name": "Python 3 (ipykernel)",
   "language": "python",
   "name": "python3"
  },
  "language_info": {
   "codemirror_mode": {
    "name": "ipython",
    "version": 3
   },
   "file_extension": ".py",
   "mimetype": "text/x-python",
   "name": "python",
   "nbconvert_exporter": "python",
   "pygments_lexer": "ipython3",
   "version": "3.10.9"
  }
 },
 "nbformat": 4,
 "nbformat_minor": 5
}
